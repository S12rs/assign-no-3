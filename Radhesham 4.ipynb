{
 "cells": [
  {
   "cell_type": "code",
   "execution_count": 5,
   "id": "a210c3db",
   "metadata": {},
   "outputs": [
    {
     "name": "stdout",
     "output_type": "stream",
     "text": [
      "*****Calculator******\n",
      "Choose your operator + for Add\n",
      " - for Subtaract\n",
      " * for multiply\n",
      " ^ for Power\n",
      " / for Division\n",
      "\n",
      "+\n",
      "Enter A number:\n",
      "4\n",
      "Enter A number:\n",
      "3\n",
      "7\n"
     ]
    }
   ],
   "source": [
    "print(\"*****Calculator******\")\n",
    "print(\"Choose your operator + for Add\\n - for Subtaract\\n * for multiply\\n ^ for Power\\n / for Division\\n\")\n",
    "operator = input()\n",
    "num1 = int(input(\"Enter A number:\\n\"))\n",
    "num2 = int(input(\"Enter A number:\\n\"))\n",
    "\n",
    "if operator == '+':\n",
    "    print(num1 + num2)\n",
    "\n",
    "if operator == '-':\n",
    "    print(num1 - num2)\n",
    "\n",
    "if operator == '*':\n",
    "    print(num1 * num2)\n",
    "\n",
    "if operator == '/':\n",
    "    print(num1 / num2)\n",
    "\n",
    "if operator == '^':\n",
    "    power = 1\n",
    "\n",
    "    for i in range(1, num2 + 1):\n",
    "      power = power * num1\n",
    "\n",
    "    print(\"The Result of {0} Power {1} = {2}\".format(num1, num2, power))"
   ]
  },
  {
   "cell_type": "code",
   "execution_count": 6,
   "id": "bcc8e4c2",
   "metadata": {},
   "outputs": [
    {
     "name": "stdout",
     "output_type": "stream",
     "text": [
      "2\n",
      "5\n",
      "7\n",
      "3\n",
      "6\n",
      "9\n",
      "12\n",
      "14\n",
      "23\n"
     ]
    }
   ],
   "source": [
    "list9=[2,5,7,\"Radhesham\",3,6,\"Roopani\",9,12,\"SIR Ali Mughal\",14,23]\n",
    "for item in list9:\n",
    "    if str(item).isnumeric():\n",
    "        print(item)"
   ]
  },
  {
   "cell_type": "code",
   "execution_count": 7,
   "id": "978de0d8",
   "metadata": {},
   "outputs": [
    {
     "name": "stdout",
     "output_type": "stream",
     "text": [
      "{'kamyaab': 15, 'Python': 25}\n",
      "{'kamyaab': 15, 'Python': 25, 'Jawan course': 40}\n"
     ]
    }
   ],
   "source": [
    "dict = {'kamyaab':15, 'Python':25}\n",
    "print(dict)\n",
    "dict.update({'Jawan course':40})\n",
    "print(dict)"
   ]
  },
  {
   "cell_type": "code",
   "execution_count": 8,
   "id": "7296bea0",
   "metadata": {},
   "outputs": [
    {
     "name": "stdout",
     "output_type": "stream",
     "text": [
      "80\n"
     ]
    }
   ],
   "source": [
    "dictionaryy={'Roopani':15, 'motivation':35, 'always':30,}\n",
    "print(sum(dictionaryy.values()))"
   ]
  },
  {
   "cell_type": "code",
   "execution_count": 17,
   "id": "3cf924ae",
   "metadata": {},
   "outputs": [
    {
     "name": "stdout",
     "output_type": "stream",
     "text": [
      "28 35 35 57 30 "
     ]
    }
   ],
   "source": [
    "listt=[28,35,28,34,57,35,18,45,35,57,30,30]\n",
    "listt2=[]\n",
    "for i in listt:\n",
    "    if i not in listt2:\n",
    "        listt2.append(i)\n",
    "    else:\n",
    "        print(i,end=' ')"
   ]
  },
  {
   "cell_type": "code",
   "execution_count": 19,
   "id": "29d2eb7d",
   "metadata": {},
   "outputs": [
    {
     "name": "stdout",
     "output_type": "stream",
     "text": [
      "My Dictionary :  {'Radhe': 2, 'muzaffar': 7, 'M usama': 9, 'Ars': 11}\n",
      "Enter a key:\n",
      "Radhe\n",
      "Radhe is Present.\n",
      "\n"
     ]
    }
   ],
   "source": [
    "dict = {'Radhe':2,'muzaffar':7,'M usama':9,'Ars':11}\n",
    "print(\"My Dictionary : \",dict)\n",
    "key = input(\"Enter a key:\\n\")\n",
    "if key in dict:\n",
    "   print(key,\"is Present.\\n\")\n",
    "else:\n",
    "   print(key, \" is not Present.\\n\")"
   ]
  },
  {
   "cell_type": "code",
   "execution_count": null,
   "id": "06bb2163",
   "metadata": {},
   "outputs": [],
   "source": []
  },
  {
   "cell_type": "code",
   "execution_count": null,
   "id": "513fd607",
   "metadata": {},
   "outputs": [],
   "source": []
  }
 ],
 "metadata": {
  "kernelspec": {
   "display_name": "Python 3",
   "language": "python",
   "name": "python3"
  },
  "language_info": {
   "codemirror_mode": {
    "name": "ipython",
    "version": 3
   },
   "file_extension": ".py",
   "mimetype": "text/x-python",
   "name": "python",
   "nbconvert_exporter": "python",
   "pygments_lexer": "ipython3",
   "version": "3.8.8"
  }
 },
 "nbformat": 4,
 "nbformat_minor": 5
}
