{
 "cells": [
  {
   "cell_type": "code",
   "execution_count": 1,
   "id": "00dd8f6b",
   "metadata": {},
   "outputs": [
    {
     "name": "stdout",
     "output_type": "stream",
     "text": [
      "Twinkle, twinkle, little star, \n",
      "         How I Wonder what you are!\n",
      "                  Up above the worls so high, \n",
      "                  Like a diamond in the sky.\n",
      "Twinkle, twinkle, little star, \n",
      "         How I Wonder what you are!\n"
     ]
    }
   ],
   "source": [
    "print( \"Twinkle, twinkle, little star, \"\n",
    "      \"\\n         How I Wonder what you are!\"\n",
    "      \"\\n                  Up above the worls so high, \" \n",
    "      \"\\n                  Like a diamond in the sky.\"\n",
    "      \"\\nTwinkle, twinkle, little star, \"\n",
    "      \"\\n         How I Wonder what you are!\"\n",
    "      )\n"
   ]
  },
  {
   "cell_type": "code",
   "execution_count": 2,
   "id": "d49026d3",
   "metadata": {},
   "outputs": [
    {
     "name": "stdout",
     "output_type": "stream",
     "text": [
      "***You Are Using Python Version is***\n",
      "3.8.8 (default, Apr 13 2021, 15:08:07) [MSC v.1916 32 bit (Intel)]\n"
     ]
    }
   ],
   "source": [
    "import sys\n",
    "print(\"***You Are Using Python Version is***\")\n",
    "print(sys.version)"
   ]
  },
  {
   "cell_type": "code",
   "execution_count": 3,
   "id": "17c27c07",
   "metadata": {},
   "outputs": [
    {
     "name": "stdout",
     "output_type": "stream",
     "text": [
      "Current Date & Time is:\n",
      "21-10-24  16:57:34\n"
     ]
    }
   ],
   "source": [
    "import datetime\n",
    "now=datetime.datetime.now()\n",
    "print(\"Current Date & Time is:\")\n",
    "print(now.strftime(\"%y-%m-%d  %H:%M:%S\"))"
   ]
  },
  {
   "cell_type": "code",
   "execution_count": 4,
   "id": "77340a33",
   "metadata": {},
   "outputs": [
    {
     "name": "stdout",
     "output_type": "stream",
     "text": [
      "Enter the Area value: \n",
      "2\n",
      "The Radius of the Area is: 12.566370614359172\n"
     ]
    }
   ],
   "source": [
    "import  math\n",
    "radius = float(input(\"Enter the Area value: \\n\"))\n",
    "area = math.pi * radius * radius\n",
    "print(\"The Radius of the Area is: {0}\".format(area))"
   ]
  },
  {
   "cell_type": "code",
   "execution_count": 7,
   "id": "0ff1ab14",
   "metadata": {},
   "outputs": [
    {
     "name": "stdout",
     "output_type": "stream",
     "text": [
      "Enter First Name:\n",
      "Radhe\n",
      "Enter Last Name:\n",
      "Sham\n",
      "Radhe Sham\n"
     ]
    }
   ],
   "source": [
    "fname=input(\"Enter First Name:\\n\")\n",
    "lname=input(\"Enter Last Name:\\n\")\n",
    "print(fname,lname)"
   ]
  },
  {
   "cell_type": "code",
   "execution_count": 8,
   "id": "e6a16ff6",
   "metadata": {},
   "outputs": [
    {
     "name": "stdout",
     "output_type": "stream",
     "text": [
      "Enter 1st Number:\n",
      "7\n",
      "Enter 2nd Number:\n",
      "2\n",
      "9\n"
     ]
    }
   ],
   "source": [
    "num1=int(input(\"Enter 1st Number:\\n\"))\n",
    "num2=int(input(\"Enter 2nd Number:\\n\"))\n",
    "sum=(num1+num2)\n",
    "print(sum)"
   ]
  },
  {
   "cell_type": "code",
   "execution_count": 15,
   "id": "a3c9567a",
   "metadata": {},
   "outputs": [
    {
     "name": "stdout",
     "output_type": "stream",
     "text": [
      "7\n"
     ]
    }
   ],
   "source": [
    "list =[ \"RADHESHAM\" ,\"python\",\"pakistan\",\"Jawan\",\"kerale\",6, 8,]\n",
    "print(len(list))"
   ]
  },
  {
   "cell_type": "code",
   "execution_count": 10,
   "id": "3348f17b",
   "metadata": {},
   "outputs": [
    {
     "name": "stdout",
     "output_type": "stream",
     "text": [
      "57\n"
     ]
    }
   ],
   "source": [
    "list1=[1,3,2,4,4,5,7,6,6,57,4]\n",
    "print(max(list1))"
   ]
  },
  {
   "cell_type": "code",
   "execution_count": 11,
   "id": "61c673a0",
   "metadata": {},
   "outputs": [
    {
     "name": "stdout",
     "output_type": "stream",
     "text": [
      "Enter a Number2\n",
      "2 is an Even Numbet\n"
     ]
    }
   ],
   "source": [
    "num=int(input(\"Enter a Number\"))\n",
    "remainder = num %2\n",
    "if (remainder == 0):\n",
    "    print (num,\"is an Even Numbet\")\n",
    "else:\n",
    "    print (num,\"is an Odd Numbet\")"
   ]
  },
  {
   "cell_type": "code",
   "execution_count": 12,
   "id": "f516f7d7",
   "metadata": {},
   "outputs": [
    {
     "name": "stdout",
     "output_type": "stream",
     "text": [
      "1 1 2 3 "
     ]
    }
   ],
   "source": [
    "list=[1,1,2,3,5,8,13,21,34,55,89]\n",
    "for item in list:\n",
    " if   item < 5:\n",
    "  print(item,end=\" \")"
   ]
  },
  {
   "cell_type": "code",
   "execution_count": 14,
   "id": "76476c48",
   "metadata": {},
   "outputs": [
    {
     "name": "stdout",
     "output_type": "stream",
     "text": [
      "Enter your English Number60\n",
      "Enter your Biology Number65\n",
      "Enter your physcis Number55\n",
      "Enter your Math Number70\n",
      "Enter your Sindhi Number67\n",
      "Your percentage is 63\n",
      "Your Grade is C\n"
     ]
    }
   ],
   "source": [
    "english=int(input(\"Enter your English Number\"))\n",
    "Biology=int(input(\"Enter your Biology Number\"))\n",
    "physcis=int(input(\"Enter your physcis Number\"))\n",
    "math=int(input(\"Enter your Math Number\"))\n",
    "sindhi=int(input(\"Enter your Sindhi Number\"))\n",
    "\n",
    "total= (english+Biology+physcis+math+sindhi)\n",
    "percent= int(total/500*100)\n",
    "print(\"Your percentage is\",percent)\n",
    "\n",
    "if  ( percent > 90):\n",
    "    print(\"Your Grade is A+\")\n",
    "elif (percent >= 80 ):\n",
    "    print(\"Your Grade is A\")\n",
    "elif (percent >= 70 ):\n",
    "    print(\"Your Grade is B+\")\n",
    "elif (percent >= 60 ):\n",
    "    print(\"Your Grade is C\")\n",
    "elif (percent >= 50 ):\n",
    "    print(\"Your Grade is D\")\n",
    "elif (percent >= 40 ):\n",
    "    print(\"Your Grade is E\")\n",
    "else:\n",
    "    print(\"Your Are Fail\")"
   ]
  },
  {
   "cell_type": "code",
   "execution_count": null,
   "id": "78b9660a",
   "metadata": {},
   "outputs": [],
   "source": []
  }
 ],
 "metadata": {
  "kernelspec": {
   "display_name": "Python 3",
   "language": "python",
   "name": "python3"
  },
  "language_info": {
   "codemirror_mode": {
    "name": "ipython",
    "version": 3
   },
   "file_extension": ".py",
   "mimetype": "text/x-python",
   "name": "python",
   "nbconvert_exporter": "python",
   "pygments_lexer": "ipython3",
   "version": "3.8.8"
  }
 },
 "nbformat": 4,
 "nbformat_minor": 5
}
